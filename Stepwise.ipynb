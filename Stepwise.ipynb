{
 "cells": [
  {
   "cell_type": "markdown",
   "id": "64e5324e",
   "metadata": {},
   "source": [
    "Stepwise Feature Selection and Regression Model Evaluation\n",
    "This notebook demonstrates Stepwise Forward Selection for feature selection on spectral data and evaluates multiple regression models (PLS, Ridge, Lasso, ElasticNet) on the selected features."
   ]
  },
  {
   "cell_type": "markdown",
   "id": "4b2c77b9",
   "metadata": {},
   "source": [
    "Load and Prepare Data\n",
    "X: Feature matrix (spectral data)\n",
    "Y: Target matrix (chemical concentrations)\n",
    "Reshape Y if it is 1D"
   ]
  },
  {
   "cell_type": "code",
   "execution_count": 1,
   "id": "93946850",
   "metadata": {},
   "outputs": [],
   "source": [
    "import numpy as np\n",
    "from sklearn.preprocessing import StandardScaler\n",
    "from sklearn.cross_decomposition import PLSRegression\n",
    "from sklearn.linear_model import Ridge, Lasso, ElasticNet\n",
    "from sklearn.metrics import mean_squared_error, r2_score\n",
    "import warnings\n",
    "\n",
    "X = np.loadtxt(\"dataF_final.csv\", delimiter=\",\")\n",
    "Y = np.loadtxt(\"dataC_final.csv\", delimiter=\",\")\n",
    "\n",
    "if Y.ndim == 1:\n",
    "    Y = Y.reshape(-1, 1)\n",
    "\n",
    "n_samples, n_features = X.shape\n",
    "n_targets = Y.shape[1]\n",
    "\n",
    "scaler_X = StandardScaler()\n",
    "X_scaled = scaler_X.fit_transform(X)\n"
   ]
  },
  {
   "cell_type": "markdown",
   "id": "430214db",
   "metadata": {},
   "source": [
    "Stepwise Forward Feature Selection\n",
    "Stepwise selection:\n",
    "Starts with an empty set of features.\n",
    "Iteratively adds the feature that gives the best improvement in model performance (lowest RMSE using PLS regression).\n",
    "Stops when adding a new feature does not improve the RMSE."
   ]
  },
  {
   "cell_type": "code",
   "execution_count": 2,
   "id": "fd0e70c4",
   "metadata": {},
   "outputs": [
    {
     "name": "stdout",
     "output_type": "stream",
     "text": [
      "Stepwise selected features (11): [988, 1823, 1041, 1559, 2, 111, 4, 1510, 65, 1551, 1604]\n"
     ]
    }
   ],
   "source": [
    "def stepwise_forward_selection(X, Y, pls_components=2):\n",
    "    selected = []\n",
    "    remaining = list(range(X.shape[1]))\n",
    "    \n",
    "    best_rmse = np.inf\n",
    "    while True:\n",
    "        rmses = []\n",
    "        \n",
    "        for f in remaining:\n",
    "            features = selected + [f]\n",
    "            pls = PLSRegression(n_components=min(len(features), pls_components))\n",
    "            with warnings.catch_warnings():\n",
    "                warnings.simplefilter(\"ignore\")\n",
    "                pls.fit(X[:, features], Y)\n",
    "            Y_pred = pls.predict(X[:, features])\n",
    "            rmse = np.sqrt(mean_squared_error(Y, Y_pred))\n",
    "            rmses.append(rmse)\n",
    "        \n",
    "        rmses = np.array(rmses)\n",
    "        min_idx = np.argmin(rmses)\n",
    "        \n",
    "        if rmses[min_idx] >= best_rmse:\n",
    "            break\n",
    "        \n",
    "        best_rmse = rmses[min_idx]\n",
    "        best_feature = remaining[min_idx]\n",
    "        selected.append(best_feature)\n",
    "        remaining.remove(best_feature)\n",
    "    \n",
    "    return selected\n",
    "\n",
    "selected_features = stepwise_forward_selection(X_scaled, Y, pls_components=2)\n",
    "X_selected = X_scaled[:, selected_features]\n",
    "print(f\"Stepwise selected features ({len(selected_features)}): {selected_features}\")\n"
   ]
  },
  {
   "cell_type": "markdown",
   "id": "6ab2df1f",
   "metadata": {},
   "source": [
    "Define Regression Models for Comparison\n",
    "Models used:\n",
    " PLS: Partial Least Squares Regression\n",
    " Ridge: L2 Regularization\n",
    " Lasso: L1 Regularization\n",
    " ElasticNet: Combination of L1 and L2\n"
   ]
  },
  {
   "cell_type": "code",
   "execution_count": 3,
   "id": "cdaef14d",
   "metadata": {},
   "outputs": [],
   "source": [
    "models = {\n",
    "    \"PLS\": PLSRegression(n_components=min(len(selected_features), 5)),\n",
    "    \"Ridge\": Ridge(alpha=1.0),\n",
    "    \"Lasso\": Lasso(alpha=0.01, max_iter=10000),\n",
    "    \"ElasticNet\": ElasticNet(alpha=0.01, l1_ratio=0.5, max_iter=10000)\n",
    "}\n"
   ]
  },
  {
   "cell_type": "markdown",
   "id": "d6394699",
   "metadata": {},
   "source": [
    "Model Evaluation Function\n",
    "Calculates:\n",
    " R²: Coefficient of determination\n",
    " RMSE: Root Mean Square Error\n",
    " REP%: Relative Error Percentage\n",
    " "
   ]
  },
  {
   "cell_type": "code",
   "execution_count": 5,
   "id": "a884511d",
   "metadata": {},
   "outputs": [],
   "source": [
    "def evaluate(model, X_input, Y_true):\n",
    "    r2_list, rmse_list, rep_list = [], [], []\n",
    "    for t in range(Y_true.shape[1]):\n",
    "        y_true = Y_true[:, t]\n",
    "        with warnings.catch_warnings():\n",
    "            warnings.simplefilter(\"ignore\")\n",
    "            model.fit(X_input, y_true)\n",
    "        y_pred = model.predict(X_input)\n",
    "        r2_list.append(r2_score(y_true, y_pred))\n",
    "        rmse = np.sqrt(mean_squared_error(y_true, y_pred))\n",
    "        rmse_list.append(rmse)\n",
    "        rep_list.append(rmse / np.mean(y_true) * 100)\n",
    "    return r2_list, rmse_list, rep_list\n"
   ]
  },
  {
   "cell_type": "markdown",
   "id": "cf12a427",
   "metadata": {},
   "source": [
    "Evaluate Models on Stepwise-Selected Features"
   ]
  },
  {
   "cell_type": "code",
   "execution_count": 6,
   "id": "9d90ef35",
   "metadata": {},
   "outputs": [
    {
     "name": "stdout",
     "output_type": "stream",
     "text": [
      "\n",
      "PLS on Stepwise-selected features:\n",
      "Target 1: R²=0.3853 | RMSE=1474.7890 | REP%=65.13\n",
      "Target 2: R²=0.4947 | RMSE=2112.1683 | REP%=97.56\n",
      "Target 3: R²=0.1013 | RMSE=1266.4807 | REP%=198.94\n",
      "Target 4: R²=0.4423 | RMSE=1870.1691 | REP%=94.78\n",
      "Target 5: R²=0.0217 | RMSE=1.7865 | REP%=255.13\n",
      "\n",
      "Ridge on Stepwise-selected features:\n",
      "Target 1: R²=0.3857 | RMSE=1474.3727 | REP%=65.11\n",
      "Target 2: R²=0.4949 | RMSE=2111.6206 | REP%=97.53\n",
      "Target 3: R²=0.1016 | RMSE=1266.2863 | REP%=198.91\n",
      "Target 4: R²=0.4429 | RMSE=1869.0601 | REP%=94.72\n",
      "Target 5: R²=0.0218 | RMSE=1.7864 | REP%=255.11\n",
      "\n",
      "Lasso on Stepwise-selected features:\n",
      "Target 1: R²=0.3861 | RMSE=1473.8377 | REP%=65.09\n",
      "Target 2: R²=0.4956 | RMSE=2110.3218 | REP%=97.47\n",
      "Target 3: R²=0.1017 | RMSE=1266.2044 | REP%=198.89\n",
      "Target 4: R²=0.4436 | RMSE=1867.9780 | REP%=94.67\n",
      "Target 5: R²=0.0214 | RMSE=1.7867 | REP%=255.16\n",
      "\n",
      "ElasticNet on Stepwise-selected features:\n",
      "Target 1: R²=0.3854 | RMSE=1474.7065 | REP%=65.13\n",
      "Target 2: R²=0.4945 | RMSE=2112.4301 | REP%=97.57\n",
      "Target 3: R²=0.1015 | RMSE=1266.3374 | REP%=198.91\n",
      "Target 4: R²=0.4425 | RMSE=1869.7336 | REP%=94.76\n",
      "Target 5: R²=0.0216 | RMSE=1.7865 | REP%=255.13\n"
     ]
    }
   ],
   "source": [
    "for name, model in models.items():\n",
    "    r2, rmse, rep = evaluate(model, X_selected, Y)\n",
    "    print(f\"\\n{name} on Stepwise-selected features:\")\n",
    "    for i in range(n_targets):\n",
    "        print(f\"Target {i+1}: R²={r2[i]:.4f} | RMSE={rmse[i]:.4f} | REP%={rep[i]:.2f}\")\n"
   ]
  },
  {
   "cell_type": "markdown",
   "id": "cdcb7c04",
   "metadata": {},
   "source": [
    "Visualize Model Performance (R² Comparison)"
   ]
  },
  {
   "cell_type": "code",
   "execution_count": 7,
   "id": "6285e270",
   "metadata": {},
   "outputs": [
    {
     "data": {
      "image/png": "[encoded data removed]",
      "text/plain": [
       "<Figure size 1000x600 with 1 Axes>"
      ]
     },
     "metadata": {},
     "output_type": "display_data"
    }
   ],
   "source": [
    "import matplotlib.pyplot as plt\n",
    "import numpy as np\n",
    "\n",
    "model_names = []\n",
    "r2_scores = []\n",
    "\n",
    "\n",
    "for name, model in models.items():\n",
    "    r2, rmse, rep = evaluate(model, X_selected, Y)\n",
    "    model_names.append(name)\n",
    "    r2_scores.append(r2)\n",
    "\n",
    "r2_scores = np.array(r2_scores)  \n",
    "\n",
    "x = np.arange(len(model_names))\n",
    "width = 0.15\n",
    "\n",
    "plt.figure(figsize=(10, 6))\n",
    "for i in range(n_targets):\n",
    "    plt.bar(x + i*width, r2_scores[:, i], width, label=f\"Target {i+1}\")\n",
    "\n",
    "plt.xticks(x + width*(n_targets-1)/2, model_names)\n",
    "plt.ylabel(\"R² Score\")\n",
    "plt.title(\"Model Performance on Stepwise-Selected Features\")\n",
    "plt.legend()\n",
    "plt.grid(axis=\"y\", linestyle=\"--\", alpha=0.7)\n",
    "plt.tight_layout()\n",
    "plt.show()\n"
   ]
  }
 ],
 "metadata": {
  "kernelspec": {
   "display_name": "base",
   "language": "python",
   "name": "python3"
  },
  "language_info": {
   "codemirror_mode": {
    "name": "ipython",
    "version": 3
   },
   "file_extension": ".py",
   "mimetype": "text/x-python",
   "name": "python",
   "nbconvert_exporter": "python",
   "pygments_lexer": "ipython3",
   "version": "3.13.2"
  }
 },
 "nbformat": 4,
 "nbformat_minor": 5
}
