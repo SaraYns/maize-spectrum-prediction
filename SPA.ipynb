{
 "cells": [
  {
   "cell_type": "markdown",
   "id": "95742d62",
   "metadata": {},
   "source": [
    "Spectral Feature Selection and Model Evaluation\n",
    "This script performs SPA (Successive Projections Algorithm) feature selection on spectral data,then evaluates multiple regression models (PLS, Ridge, Lasso, ElasticNet) on the selected features."
   ]
  },
  {
   "cell_type": "markdown",
   "id": "74943e20",
   "metadata": {},
   "source": [
    "Load and Prepare Data\n",
    "X: Feature matrix (spectral data)\n",
    "Y: Target matrix (chemical concentrations)\n",
    "Reshape Y if it is 1D"
   ]
  },
  {
   "cell_type": "code",
   "execution_count": 1,
   "id": "93234763",
   "metadata": {},
   "outputs": [],
   "source": [
    "import numpy as np\n",
    "from sklearn.preprocessing import StandardScaler\n",
    "from sklearn.cross_decomposition import PLSRegression\n",
    "from sklearn.linear_model import Ridge, Lasso, ElasticNet\n",
    "from sklearn.metrics import mean_squared_error, r2_score\n",
    "import warnings\n",
    "\n",
    "X = np.loadtxt(\"dataF_final.csv\", delimiter=\",\")\n",
    "Y = np.loadtxt(\"dataC_final.csv\", delimiter=\",\")\n",
    "if Y.ndim == 1:\n",
    "    Y = Y.reshape(-1, 1)\n",
    "n_samples, n_features = X.shape\n",
    "n_targets = Y.shape[1]\n",
    "\n",
    "scaler_X = StandardScaler()\n",
    "X_scaled = scaler_X.fit_transform(X)"
   ]
  },
  {
   "cell_type": "markdown",
   "id": "ba2f2922",
   "metadata": {},
   "source": [
    "SPA Feature Selection\n",
    "- SPA selects features iteratively to minimize multicollinearity while improving model prediction.\n",
    "Starts with the feature that has the highest variance.\n",
    "- Iteratively adds features that reduce RMSE when used with PLS regression."
   ]
  },
  {
   "cell_type": "code",
   "execution_count": 3,
   "id": "0a79e49a",
   "metadata": {},
   "outputs": [
    {
     "name": "stdout",
     "output_type": "stream",
     "text": [
      "SPA selected features (62): [np.int64(63), 988, 544, 1838, 1317, 108, 401, 987, 1823, 650, 532, 64, 1516, 550, 1292, 1568, 1558, 1564, 165, 1817, 625, 68, 1468, 1563, 1187, 744, 2, 1821, 1207, 1759, 19, 374, 1343, 310, 386, 1511, 58, 74, 1576, 1154, 1618, 1184, 1617, 995, 373, 1572, 10, 24, 23, 39, 1470, 40, 1193, 1574, 1549, 1476, 926, 1146, 139, 0, 174, 1532]\n"
     ]
    }
   ],
   "source": [
    "def spa(X, Y, pls_components=2):\n",
    "    selected = []\n",
    "    remaining = list(range(X.shape[1]))\n",
    "\n",
    "    first_var = np.argmax(np.var(X, axis=0))\n",
    "    selected.append(first_var)\n",
    "    remaining.remove(first_var)\n",
    "\n",
    "    best_rmse = np.inf\n",
    "    while True:\n",
    "        rmses = []\n",
    "        for f in remaining:\n",
    "            features = selected + [f]\n",
    "            pls = PLSRegression(n_components=min(len(features), pls_components))\n",
    "            with warnings.catch_warnings():\n",
    "                warnings.simplefilter(\"ignore\")\n",
    "                pls.fit(X[:, features], Y)\n",
    "            Y_pred = pls.predict(X[:, features])\n",
    "            rmse = np.sqrt(mean_squared_error(Y, Y_pred))\n",
    "            rmses.append(rmse)\n",
    "\n",
    "        rmses = np.array(rmses)\n",
    "        min_idx = np.argmin(rmses)\n",
    "\n",
    "        if rmses[min_idx] >= best_rmse:\n",
    "            break\n",
    "\n",
    "        best_rmse = rmses[min_idx]\n",
    "        best_feature = remaining[min_idx]\n",
    "        selected.append(best_feature)\n",
    "        remaining.remove(best_feature)\n",
    "\n",
    "    return selected\n",
    "selected_features = spa(X_scaled, Y, pls_components=2)\n",
    "X_selected = X_scaled[:, selected_features]\n",
    "print(f\"SPA selected features ({len(selected_features)}): {selected_features}\")"
   ]
  },
  {
   "cell_type": "markdown",
   "id": "0553b084",
   "metadata": {},
   "source": [
    "Define Regression Models for Comparison\n",
    "Models used:\n",
    " PLS: Partial Least Squares Regression\n",
    " Ridge: L2 Regularization\n",
    " Lasso: L1 Regularization\n",
    " ElasticNet: Combination of L1 and L2\n"
   ]
  },
  {
   "cell_type": "code",
   "execution_count": 5,
   "id": "935ba5d6",
   "metadata": {},
   "outputs": [],
   "source": [
    "models = {\n",
    "    \"PLS\": PLSRegression(n_components=min(len(selected_features), 5)),\n",
    "    \"Ridge\": Ridge(alpha=1.0),\n",
    "    \"Lasso\": Lasso(alpha=0.01, max_iter=10000),\n",
    "    \"ElasticNet\": ElasticNet(alpha=0.01, l1_ratio=0.5, max_iter=10000)\n",
    "}\n"
   ]
  },
  {
   "cell_type": "markdown",
   "id": "015a2399",
   "metadata": {},
   "source": [
    "Model Evaluation Function\n",
    "Calculates:\n",
    " R²: Coefficient of determination\n",
    " RMSE: Root Mean Square Error\n",
    " REP%: Relative Error Percentage\n",
    " "
   ]
  },
  {
   "cell_type": "code",
   "execution_count": 7,
   "id": "d41b996a",
   "metadata": {},
   "outputs": [],
   "source": [
    "def evaluate(model, X_input, Y_true):\n",
    "    r2_list, rmse_list, rep_list = [], [], []\n",
    "    for t in range(Y_true.shape[1]):\n",
    "        y_true = Y_true[:, t]\n",
    "        with warnings.catch_warnings():\n",
    "            warnings.simplefilter(\"ignore\")\n",
    "            model.fit(X_input, y_true)\n",
    "        y_pred = model.predict(X_input)\n",
    "        r2_list.append(r2_score(y_true, y_pred))\n",
    "        rmse = np.sqrt(mean_squared_error(y_true, y_pred))\n",
    "        rmse_list.append(rmse)\n",
    "        rep_list.append(rmse / np.mean(y_true) * 100)\n",
    "    return r2_list, rmse_list, rep_list"
   ]
  },
  {
   "cell_type": "markdown",
   "id": "ecc853ee",
   "metadata": {},
   "source": [
    "Evaluate Each Model on SPA-Selected Features"
   ]
  },
  {
   "cell_type": "code",
   "execution_count": 9,
   "id": "cfddfd58",
   "metadata": {},
   "outputs": [
    {
     "name": "stdout",
     "output_type": "stream",
     "text": [
      "\n",
      "PLS on SPA-selected features:\n",
      "Target 1: R²=0.6098 | RMSE=1175.0213 | REP%=51.89\n",
      "Target 2: R²=0.6626 | RMSE=1725.8202 | REP%=79.71\n",
      "Target 3: R²=0.3799 | RMSE=1052.0458 | REP%=165.25\n",
      "Target 4: R²=0.5924 | RMSE=1598.8254 | REP%=81.03\n",
      "Target 5: R²=0.2053 | RMSE=1.6101 | REP%=229.94\n",
      "\n",
      "Ridge on SPA-selected features:\n",
      "Target 1: R²=0.6301 | RMSE=1144.1130 | REP%=50.53\n",
      "Target 2: R²=0.6900 | RMSE=1654.3858 | REP%=76.41\n",
      "Target 3: R²=0.4068 | RMSE=1028.9473 | REP%=161.63\n",
      "Target 4: R²=0.6096 | RMSE=1564.5789 | REP%=79.29\n",
      "Target 5: R²=0.2233 | RMSE=1.5918 | REP%=227.33\n",
      "\n",
      "Lasso on SPA-selected features:\n",
      "Target 1: R²=0.6316 | RMSE=1141.7297 | REP%=50.42\n",
      "Target 2: R²=0.6934 | RMSE=1645.3048 | REP%=75.99\n",
      "Target 3: R²=0.4121 | RMSE=1024.3174 | REP%=160.90\n",
      "Target 4: R²=0.6113 | RMSE=1561.2276 | REP%=79.12\n",
      "Target 5: R²=0.2164 | RMSE=1.5989 | REP%=228.33\n",
      "\n",
      "ElasticNet on SPA-selected features:\n",
      "Target 1: R²=0.6296 | RMSE=1144.7557 | REP%=50.56\n",
      "Target 2: R²=0.6889 | RMSE=1657.2245 | REP%=76.54\n",
      "Target 3: R²=0.4060 | RMSE=1029.6754 | REP%=161.74\n",
      "Target 4: R²=0.6091 | RMSE=1565.6945 | REP%=79.35\n",
      "Target 5: R²=0.2197 | RMSE=1.5955 | REP%=227.85\n"
     ]
    }
   ],
   "source": [
    "for name, model in models.items():\n",
    "    r2, rmse, rep = evaluate(model, X_selected, Y)\n",
    "    print(f\"\\n{name} on SPA-selected features:\")\n",
    "    for i in range(n_targets):\n",
    "        print(f\"Target {i+1}: R²={r2[i]:.4f} | RMSE={rmse[i]:.4f} | REP%={rep[i]:.2f}\")"
   ]
  },
  {
   "cell_type": "markdown",
   "id": "157018a8",
   "metadata": {},
   "source": [
    "Visualize Model Performance (R² Comparison)"
   ]
  },
  {
   "cell_type": "code",
   "execution_count": 10,
   "id": "4cf7e9f1",
   "metadata": {},
   "outputs": [
    {
     "data": {
      "image/png": "[encoded data removed]",
      "text/plain": [
       "<Figure size 1000x600 with 1 Axes>"
      ]
     },
     "metadata": {},
     "output_type": "display_data"
    }
   ],
   "source": [
    "import matplotlib.pyplot as plt\n",
    "\n",
    "model_names = []\n",
    "r2_scores = []\n",
    "\n",
    "for name, model in models.items():\n",
    "    r2, rmse, rep = evaluate(model, X_selected, Y)\n",
    "    model_names.append(name)\n",
    "    r2_scores.append(r2)\n",
    "\n",
    "r2_scores = np.array(r2_scores)  \n",
    "\n",
    "x = np.arange(len(model_names))\n",
    "width = 0.15\n",
    "\n",
    "plt.figure(figsize=(10, 6))\n",
    "for i in range(n_targets):\n",
    "    plt.bar(x + i*width, r2_scores[:, i], width, label=f\"Target {i+1}\")\n",
    "\n",
    "plt.xticks(x + width, model_names)\n",
    "plt.ylabel(\"R² Score\")\n",
    "plt.title(\"Model Performance on SPA-Selected Features\")\n",
    "plt.legend()\n",
    "plt.grid(axis=\"y\", linestyle=\"--\", alpha=0.7)\n",
    "plt.tight_layout()\n",
    "plt.show()"
   ]
  }
 ],
 "metadata": {
  "kernelspec": {
   "display_name": "base",
   "language": "python",
   "name": "python3"
  },
  "language_info": {
   "codemirror_mode": {
    "name": "ipython",
    "version": 3
   },
   "file_extension": ".py",
   "mimetype": "text/x-python",
   "name": "python",
   "nbconvert_exporter": "python",
   "pygments_lexer": "ipython3",
   "version": "3.13.2"
  }
 },
 "nbformat": 4,
 "nbformat_minor": 5
}
